{
 "cells": [
  {
   "cell_type": "code",
   "execution_count": null,
   "id": "b00310f3",
   "metadata": {},
   "outputs": [],
   "source": [
    "import urllib.request"
   ]
  },
  {
   "cell_type": "code",
   "execution_count": null,
   "id": "80f9b6d0",
   "metadata": {},
   "outputs": [],
   "source": [
    "#AI model\n",
    "import urllib.request\n",
    "request_url = urllib.request.urlopen(\"https://kxzehhlpr5.execute-api.ap-south-1.amazonaws.com/test/unlock\")\n",
    "\n",
    "print( request_url.read())"
   ]
  },
  {
   "cell_type": "code",
   "execution_count": null,
   "id": "fadd0897",
   "metadata": {},
   "outputs": [],
   "source": [
    "#AI model\n",
    "import urllib.request\n",
    "request_url = urllib.request.urlopen(\"https://kxzehhlpr5.execute-api.ap-south-1.amazonaws.com/test/lock\")\n",
    "\n",
    "print( request_url.read())"
   ]
  },
  {
   "cell_type": "code",
   "execution_count": null,
   "id": "8cf1ad33",
   "metadata": {},
   "outputs": [],
   "source": [
    "#AI model\n",
    "import urllib.request\n",
    "request_url = urllib.request.urlopen(\"https://kxzehhlpr5.execute-api.ap-south-1.amazonaws.com/test/docker\")\n",
    "\n",
    "print( request_url.read())"
   ]
  }
 ],
 "metadata": {
  "kernelspec": {
   "display_name": "Python 3 (ipykernel)",
   "language": "python",
   "name": "python3"
  },
  "language_info": {
   "codemirror_mode": {
    "name": "ipython",
    "version": 3
   },
   "file_extension": ".py",
   "mimetype": "text/x-python",
   "name": "python",
   "nbconvert_exporter": "python",
   "pygments_lexer": "ipython3",
   "version": "3.10.9"
  }
 },
 "nbformat": 4,
 "nbformat_minor": 5
}
